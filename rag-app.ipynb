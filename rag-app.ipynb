{
 "cells": [
  {
   "cell_type": "markdown",
   "id": "dce6da6d",
   "metadata": {},
   "source": [
    "## Rag-Chatbot"
   ]
  },
  {
   "cell_type": "markdown",
   "id": "1c257b10",
   "metadata": {},
   "source": [
    "link =https://en.wikipedia.org/w/index.php?title=Ethiopia&oldid=1306479864   "
   ]
  },
  {
   "cell_type": "code",
   "execution_count": 5,
   "id": "8a4475af",
   "metadata": {},
   "outputs": [
    {
     "name": "stdout",
     "output_type": "stream",
     "text": [
      "Note: you may need to restart the kernel to use updated packages.\n"
     ]
    },
    {
     "name": "stderr",
     "output_type": "stream",
     "text": [
      "\n",
      "[notice] A new release of pip is available: 24.0 -> 25.2\n",
      "[notice] To update, run: python.exe -m pip install --upgrade pip\n"
     ]
    }
   ],
   "source": [
    "%pip install -qU langchain langchain_community langchain[google-genai]"
   ]
  },
  {
   "cell_type": "code",
   "execution_count": 4,
   "id": "f2960e37",
   "metadata": {},
   "outputs": [],
   "source": [
    "import os\n",
    "from dotenv import load_dotenv\n",
    "load_dotenv()\n",
    "# Load the API key from the .env file\n",
    "API_KEY = os.getenv(\"GOOGLE_API_KEY\")\n",
    "if API_KEY is None:\n",
    "    raise ValueError(\"API key not found. Please set the OPENAI_API_KEY environment variable.\")"
   ]
  },
  {
   "cell_type": "markdown",
   "id": "80a0ce99",
   "metadata": {},
   "source": [
    "## Loading Document"
   ]
  },
  {
   "cell_type": "code",
   "execution_count": 31,
   "id": "b09234c9",
   "metadata": {},
   "outputs": [
    {
     "name": "stdout",
     "output_type": "stream",
     "text": [
      "Number of chunks:  430\n"
     ]
    }
   ],
   "source": [
    "from langchain_community.document_loaders import WebBaseLoader\n",
    "from langchain_text_splitters import RecursiveCharacterTextSplitter\n",
    "from langchain_google_genai import GoogleGenerativeAIEmbeddings\n",
    "\n",
    "\n",
    "loader = WebBaseLoader(\"https://www.govinfo.gov/content/pkg/CDOC-110hdoc50/html/CDOC-110hdoc50.htm\")\n",
    "documents = loader.load()\n",
    "\n",
    "text_splitter = RecursiveCharacterTextSplitter(chunk_size=1000, chunk_overlap=200, separators=[\"\\n\\n\", \"\\n\", \" \", \"\"])\n",
    "chunks = text_splitter.split_documents(documents)\n",
    "print(\"Number of chunks: \", len(chunks))\n",
    "\n",
    "# embeddings = GoogleGenerativeAIEmbeddings(model=\"models/gemini-embedding-001\")"
   ]
  },
  {
   "cell_type": "markdown",
   "id": "1d24f575",
   "metadata": {},
   "source": [
    "## Embedding Model Google Gemini"
   ]
  },
  {
   "cell_type": "code",
   "execution_count": 9,
   "id": "047b92df",
   "metadata": {},
   "outputs": [
    {
     "name": "stdout",
     "output_type": "stream",
     "text": [
      "Failed to embed documents after multiple retries: RetryError[<Future at 0x21b304a6990 state=finished raised TypeError>]\n"
     ]
    }
   ],
   "source": [
    "from langchain_google_genai import GoogleGenerativeAIEmbeddings\n",
    "from tenacity import retry, wait_random_exponential, stop_after_attempt\n",
    "\n",
    "embeddings = GoogleGenerativeAIEmbeddings(model=\"models/gemini-embedding-001\")\n",
    "\n",
    "@retry(wait=wait_random_exponential(min=1, max=60), stop=stop_after_attempt(6))\n",
    "def embed_with_retry(texts):\n",
    " return embeddings.embed_documents(texts)\n",
    "\n",
    "# Now, use this function to embed your documents\n",
    "try:\n",
    " vectors = embed_with_retry(chunks)\n",
    "except Exception as e:\n",
    " print(f\"Failed to embed documents after multiple retries: {e}\")"
   ]
  },
  {
   "cell_type": "code",
   "execution_count": 32,
   "id": "543fd0cf",
   "metadata": {},
   "outputs": [],
   "source": [
    "from langchain_huggingface import HuggingFaceEmbeddings\n",
    "\n",
    "embeddings_model = HuggingFaceEmbeddings(model_name=\"NovaSearch/stella_en_1.5B_v5\")"
   ]
  },
  {
   "cell_type": "code",
   "execution_count": 6,
   "id": "f3b90b2f",
   "metadata": {},
   "outputs": [],
   "source": [
    "from langchain_community.vectorstores import InMemoryVectorStore\n",
    "store = InMemoryVectorStore.from_documents(chunks, embeddings_model)\n"
   ]
  },
  {
   "cell_type": "code",
   "execution_count": 26,
   "id": "7479fc93",
   "metadata": {},
   "outputs": [],
   "source": [
    "retriever = store.as_retriever()"
   ]
  },
  {
   "cell_type": "code",
   "execution_count": 27,
   "id": "0edd9de4",
   "metadata": {},
   "outputs": [],
   "source": [
    "from langchain.chat_models import init_chat_model\n",
    "from langchain_core.prompts import ChatPromptTemplate\n",
    "\n",
    "llm = init_chat_model(\"gemini-2.5-flash\", model_provider=\"google_genai\")\n",
    "\n",
    "prompt = ChatPromptTemplate.from_messages([\n",
    "    (\"system\", \"Your a helpful assistant that can answer questions about the USA Constitution. Use the provided context to answer the question.\"),\n",
    "    (\"user\", \"Question: {question}\\nContext: {context}\")\n",
    "])\n",
    "\n",
    "chain = prompt | llm"
   ]
  },
  {
   "cell_type": "code",
   "execution_count": 30,
   "id": "401d04ef",
   "metadata": {},
   "outputs": [
    {
     "data": {
      "text/plain": [
       "'The context you provided, \"H Q D O\", does not appear to be text from the USA Constitution or any meaningful document. It\\'s just a sequence of letters.\\n\\nTherefore, I cannot summarize it or list interesting things related to the USA Constitution from it.\\n\\nPlease provide the actual text or context you\\'d like me to analyze!'"
      ]
     },
     "execution_count": 30,
     "metadata": {},
     "output_type": "execute_result"
    }
   ],
   "source": [
    "query = \"Can you summarize the context? and list some interesting things you see\"\n",
    "\n",
    "#  RAG\n",
    "\n",
    "# Retrieval\n",
    "docs = retriever.invoke(query)\n",
    "docs_context = \"\\n\\n\".join([doc.page_content for doc in docs])\n",
    "# Augmented + Generation\n",
    "response = chain.invoke({\n",
    "    \"question\": query,\n",
    "    \"context\": docs_context\n",
    "})\n",
    "\n",
    "\n",
    "response.content"
   ]
  },
  {
   "cell_type": "code",
   "execution_count": 2,
   "id": "bb88e07b",
   "metadata": {},
   "outputs": [
    {
     "name": "stdout",
     "output_type": "stream",
     "text": [
      "Note: you may need to restart the kernel to use updated packages.\n"
     ]
    },
    {
     "name": "stderr",
     "output_type": "stream",
     "text": [
      "\n",
      "[notice] A new release of pip is available: 24.0 -> 25.2\n",
      "[notice] To update, run: python.exe -m pip install --upgrade pip\n"
     ]
    }
   ],
   "source": [
    "%pip install -qU \"langchain[google-genai]\""
   ]
  },
  {
   "cell_type": "code",
   "execution_count": 7,
   "id": "2d80a864",
   "metadata": {},
   "outputs": [
    {
     "data": {
      "text/plain": [
       "AIMessage(content=\"Hello! As an AI, I don't have feelings or a physical state, but I'm functioning perfectly and ready to assist you.\\n\\nHow can I help you today?\", additional_kwargs={}, response_metadata={'prompt_feedback': {'block_reason': 0, 'safety_ratings': []}, 'finish_reason': 'STOP', 'model_name': 'gemini-2.5-flash', 'safety_ratings': []}, id='run--8a35191b-9346-44c2-ac70-3128b4fb5d7c-0', usage_metadata={'input_tokens': 5, 'output_tokens': 759, 'total_tokens': 764, 'input_token_details': {'cache_read': 0}, 'output_token_details': {'reasoning': 722}})"
      ]
     },
     "execution_count": 7,
     "metadata": {},
     "output_type": "execute_result"
    }
   ],
   "source": [
    "\n",
    "from langchain.chat_models import init_chat_model\n",
    "\n",
    "llm = init_chat_model(\"gemini-2.5-flash\", model_provider=\"google_genai\")\n",
    "llm.invoke(\"hello how are you\")"
   ]
  },
  {
   "cell_type": "markdown",
   "id": "e36ee375",
   "metadata": {},
   "source": [
    "## Prompt Templates"
   ]
  }
 ],
 "metadata": {
  "kernelspec": {
   "display_name": ".venv",
   "language": "python",
   "name": "python3"
  },
  "language_info": {
   "codemirror_mode": {
    "name": "ipython",
    "version": 3
   },
   "file_extension": ".py",
   "mimetype": "text/x-python",
   "name": "python",
   "nbconvert_exporter": "python",
   "pygments_lexer": "ipython3",
   "version": "3.11.9"
  }
 },
 "nbformat": 4,
 "nbformat_minor": 5
}
